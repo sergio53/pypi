{
 "cells": [
  {
   "cell_type": "markdown",
   "id": "2bf6caa3",
   "metadata": {},
   "source": [
    "## Jeu de puzzle Tours de Hanoi avec animation ipycanvas graphique \n",
    "<hr style=\"border: 3px solid green;  border-radius: 2px;   margin-top: 0px; margin-bottom: 0px;\">"
   ]
  },
  {
   "cell_type": "raw",
   "id": "0c6cb0b3",
   "metadata": {
    "code_folding": [
     0
    ]
   },
   "source": [
    "%%writefile hanoi_canvas.py\n",
    "..."
   ]
  },
  {
   "cell_type": "code",
   "execution_count": null,
   "id": "b4cff680",
   "metadata": {},
   "outputs": [],
   "source": [
    "from hanoi_canvas import TowerOfHanoiRunner"
   ]
  },
  {
   "cell_type": "markdown",
   "id": "53dba8be",
   "metadata": {},
   "source": [
    "<hr style=\"border: 2px solid green;  border-radius: 2px;   margin-top: 0px; margin-bottom: 0px;\">"
   ]
  },
  {
   "cell_type": "code",
   "execution_count": null,
   "id": "f64837c1",
   "metadata": {},
   "outputs": [],
   "source": [
    "TowerOfHanoiRunner(4, 'A', 'B', 'C')"
   ]
  },
  {
   "cell_type": "code",
   "execution_count": null,
   "id": "ac1325c5",
   "metadata": {},
   "outputs": [],
   "source": [
    "TowerOfHanoiRunner(3, 1, 'B', 3)"
   ]
  }
 ],
 "metadata": {
  "kernelspec": {
   "display_name": "Python 3 (ipykernel)",
   "language": "python",
   "name": "python3"
  },
  "language_info": {
   "codemirror_mode": {
    "name": "ipython",
    "version": 3
   },
   "file_extension": ".py",
   "mimetype": "text/x-python",
   "name": "python",
   "nbconvert_exporter": "python",
   "pygments_lexer": "ipython3",
   "version": "3.12.6"
  }
 },
 "nbformat": 4,
 "nbformat_minor": 5
}
