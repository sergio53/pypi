{
 "cells": [
  {
   "cell_type": "markdown",
   "id": "2bf6caa3",
   "metadata": {},
   "source": [
    "## Jeu de puzzle Tours de Hanoi avec animation ipycanvas graphique \n",
    "<hr style=\"border: 3px solid green;  border-radius: 2px;   margin-top: 0px; margin-bottom: 0px;\">"
   ]
  },
  {
   "cell_type": "code",
   "execution_count": null,
   "id": "05decd03",
   "metadata": {
    "code_folding": [
     0
    ]
   },
   "outputs": [],
   "source": [
    "%%writefile hanoi_canvas.py\n",
    "from ipycanvas import MultiCanvas, hold_canvas\n",
    "from IPython.display import clear_output\n",
    "from ipywidgets import Button, Output\n",
    "\n",
    "\n",
    "# Recursive Python function to solve the tower of hanoi\n",
    "def TowerOfHanoiSolver(n, src, aux, dst):\n",
    "  order = []\n",
    "  def move(n, src, aux, dst):\n",
    "    if n <= 0:\n",
    "      return\n",
    "    move(n-1, src, dst, aux)\n",
    "    order.append(f\"{src}{dst}\")\n",
    "    move(n-1, aux, src, dst)\n",
    "    # ~~~~~~~~~~~~~~~~~~~~~~\n",
    "  move(n, src, aux, dst)\n",
    "  return n, str(src), str(aux), str(dst), order\n",
    "#moves = TowerOfHanoiSolver(3, 'A', 'B', 'C')\n",
    "#moves\n",
    "\n",
    "\n",
    "\n",
    "class tripleDraw:\n",
    "  def __init__(self, labels):\n",
    "    m = MultiCanvas(n_canvases=2, width=800, height=300)\n",
    "    self.m = m\n",
    "    \n",
    "    self.tower_width = 6\n",
    "    self.base_height = 20\n",
    "    self.tower_spacing = self.m.width // 3\n",
    "    self.disk_height = 20\n",
    "    self.disk_width_step = 30    \n",
    "    self.colors = ['red', 'green', 'gray', 'navy', 'blue', 'olive', 'purple', 'orange']\n",
    "    #\n",
    "    m[0].clear()\n",
    "    m[0].fill_style = 'black'\n",
    "    m[0].fill_rect(0, 0, m.width, m.height)\n",
    "\n",
    "    # Draw bases\n",
    "    m[0].fill_style = 'brown'\n",
    "    m[0].fill_rect(0, m.height - self.base_height, m.width, self.base_height)\n",
    "\n",
    "    # Draw towers\n",
    "    m[0].fill_style = 'gray'\n",
    "    for i in range(3):\n",
    "      m[0].fill_rect(m.width //6 + i*m.width //3, 10, self.tower_width, m.height-10-self.base_height)\n",
    "    # Labels\n",
    "    m[0].fill_style = 'white'\n",
    "    m[0].font = \"26px serif\"\n",
    "    for i in enumerate(labels): \n",
    "      m[0].fill_text(str(i[1]) ,m.width //6 + i[0]*m.width //3 - self.tower_width, m.height-2, self.tower_width*3)\n",
    "    # ~~~~~~~~~~~~~~~~~~~~~~\n",
    "  def draw(self, towers):\n",
    "    m = self.m\n",
    "    m[1].clear()\n",
    "    m[1].font = \"20px serif\"\n",
    "    with hold_canvas():\n",
    "      for i, tower in enumerate(towers):\n",
    "        for j, disk in enumerate(towers[tower][::-1]):\n",
    "          disk_width = disk * self.disk_width_step\n",
    "          m[1].fill_style = self.colors[disk % len(self.colors)]\n",
    "          m[1].fill_rect(self.m.width //6 + i * self.tower_spacing-disk_width//2 + self.tower_width //2, \n",
    "            m.height - self.base_height - (j + 1) * self.disk_height, disk_width, \n",
    "            self.disk_height)\n",
    "          m[1].fill_style = 'white'\n",
    "          m[1].fill_text(f\"{disk}\".center(4), \n",
    "                         self.m.width //6 + i*m.width //3 - self.tower_width, \n",
    "                         self.m.height - self.base_height - j * self.disk_height - 3)\n",
    "    # ~~~~~~~~~~~~~~~~~~\n",
    "\n",
    "\n",
    "\n",
    "def play_hanoi(moves, canvas, show):\n",
    "  def next_hanoi():\n",
    "    triple = {moves[1]: list(range(1,moves[0]+1)), moves[2]:[], moves[3]:[]}\n",
    "    for m in moves[4]:\n",
    "      show(triple)\n",
    "      yield f\"{m[0]} {chr(0x27BC)} {m[1]}\"\n",
    "      \n",
    "      pop = triple[m[0]].pop(0)\n",
    "      triple[m[1]].insert(0,pop)\n",
    "      if m is moves[4][-1]:\n",
    "        show(triple)\n",
    "    # ~~~~~~~~~~~~\n",
    "  out = Output()\n",
    "  nexth = next_hanoi()\n",
    "  next_button = Button()\n",
    "  def on_next_button_click(b):\n",
    "    if b.description == 'Ready!':\n",
    "      with out: clear_output()\n",
    "    b.description = next(nexth, 'Ready!')\n",
    "    # ~~~~~~~~~~~~~~~~~~~~~~~\n",
    "  next_button.on_click(on_next_button_click)\n",
    "  display(out)\n",
    "  with out: display(canvas,next_button)\n",
    "  on_next_button_click(next_button)\n",
    "\n",
    "\n",
    "\n",
    "def TowerOfHanoiRunner(n, src, aux, dst):\n",
    "  moves = TowerOfHanoiSolver(n, src, aux, dst)\n",
    "  trDr = tripleDraw(moves[1:4])\n",
    "  play_hanoi(moves, trDr.m, trDr.draw)"
   ]
  },
  {
   "cell_type": "code",
   "execution_count": null,
   "id": "b4cff680",
   "metadata": {},
   "outputs": [],
   "source": [
    "from hanoi_canvas import TowerOfHanoiRunner"
   ]
  },
  {
   "cell_type": "markdown",
   "id": "53dba8be",
   "metadata": {},
   "source": [
    "<hr style=\"border: 2px solid green;  border-radius: 2px;   margin-top: 0px; margin-bottom: 0px;\">"
   ]
  },
  {
   "cell_type": "code",
   "execution_count": null,
   "id": "f64837c1",
   "metadata": {},
   "outputs": [],
   "source": [
    "TowerOfHanoiRunner(4, 'A', 'B', 'C')"
   ]
  },
  {
   "cell_type": "code",
   "execution_count": null,
   "id": "ac1325c5",
   "metadata": {},
   "outputs": [],
   "source": [
    "TowerOfHanoiRunner(3, 1, 'B', 3)"
   ]
  }
 ],
 "metadata": {
  "kernelspec": {
   "display_name": "Python 3 (ipykernel)",
   "language": "python",
   "name": "python3"
  },
  "language_info": {
   "codemirror_mode": {
    "name": "ipython",
    "version": 3
   },
   "file_extension": ".py",
   "mimetype": "text/x-python",
   "name": "python",
   "nbconvert_exporter": "python",
   "pygments_lexer": "ipython3",
   "version": "3.12.6"
  }
 },
 "nbformat": 4,
 "nbformat_minor": 5
}
